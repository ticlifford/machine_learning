{
 "cells": [
  {
   "cell_type": "markdown",
   "metadata": {
    "colab_type": "text",
    "id": "jYysdyb-CaWM"
   },
   "source": [
    "# Classifying Mnist\n",
    "\n",
    "This exercise is essentially the helloworld of machine learning with tensorflow, an mnist classifier. I followed along with the \"TensorFlow for Deep Learning\" lesson on udacity. "
   ]
  },
  {
   "cell_type": "markdown",
   "metadata": {
    "colab_type": "text",
    "id": "H0tMfX2vR0uD"
   },
   "source": [
    "## Install and import dependencies\n",
    "\n",
    "We'll need tenslorflow and tensorflow_datasets."
   ]
  },
  {
   "cell_type": "code",
   "execution_count": 1,
   "metadata": {
    "colab": {},
    "colab_type": "code",
    "id": "P7mUJVqcINSM",
    "scrolled": true
   },
   "outputs": [
    {
     "name": "stdout",
     "output_type": "stream",
     "text": [
      "Requirement already up-to-date: tensorflow_datasets in c:\\users\\tim\\anaconda3\\lib\\site-packages (1.3.2)\n",
      "Requirement already satisfied, skipping upgrade: termcolor in c:\\users\\tim\\anaconda3\\lib\\site-packages (from tensorflow_datasets) (1.1.0)\n",
      "Requirement already satisfied, skipping upgrade: six in c:\\users\\tim\\anaconda3\\lib\\site-packages (from tensorflow_datasets) (1.12.0)\n",
      "Requirement already satisfied, skipping upgrade: tensorflow-metadata in c:\\users\\tim\\anaconda3\\lib\\site-packages (from tensorflow_datasets) (0.21.0)\n",
      "Requirement already satisfied, skipping upgrade: future in c:\\users\\tim\\anaconda3\\lib\\site-packages (from tensorflow_datasets) (0.17.1)\n",
      "Requirement already satisfied, skipping upgrade: numpy in c:\\users\\tim\\anaconda3\\lib\\site-packages (from tensorflow_datasets) (1.16.5)\n",
      "Requirement already satisfied, skipping upgrade: wrapt in c:\\users\\tim\\anaconda3\\lib\\site-packages (from tensorflow_datasets) (1.11.2)\n",
      "Requirement already satisfied, skipping upgrade: promise in c:\\users\\tim\\anaconda3\\lib\\site-packages (from tensorflow_datasets) (2.3)\n",
      "Requirement already satisfied, skipping upgrade: absl-py in c:\\users\\tim\\anaconda3\\lib\\site-packages (from tensorflow_datasets) (0.9.0)\n",
      "Requirement already satisfied, skipping upgrade: attrs in c:\\users\\tim\\anaconda3\\lib\\site-packages (from tensorflow_datasets) (19.2.0)\n",
      "Requirement already satisfied, skipping upgrade: requests>=2.19.0 in c:\\users\\tim\\anaconda3\\lib\\site-packages (from tensorflow_datasets) (2.22.0)\n",
      "Requirement already satisfied, skipping upgrade: tqdm in c:\\users\\tim\\anaconda3\\lib\\site-packages (from tensorflow_datasets) (4.36.1)\n",
      "Requirement already satisfied, skipping upgrade: dill in c:\\users\\tim\\anaconda3\\lib\\site-packages (from tensorflow_datasets) (0.3.1.1)\n",
      "Requirement already satisfied, skipping upgrade: protobuf>=3.6.1 in c:\\users\\tim\\anaconda3\\lib\\site-packages (from tensorflow_datasets) (3.11.2)\n",
      "Requirement already satisfied, skipping upgrade: googleapis-common-protos in c:\\users\\tim\\anaconda3\\lib\\site-packages (from tensorflow-metadata->tensorflow_datasets) (1.6.0)\n",
      "Requirement already satisfied, skipping upgrade: chardet<3.1.0,>=3.0.2 in c:\\users\\tim\\anaconda3\\lib\\site-packages (from requests>=2.19.0->tensorflow_datasets) (3.0.4)\n",
      "Requirement already satisfied, skipping upgrade: idna<2.9,>=2.5 in c:\\users\\tim\\anaconda3\\lib\\site-packages (from requests>=2.19.0->tensorflow_datasets) (2.8)\n",
      "Requirement already satisfied, skipping upgrade: urllib3!=1.25.0,!=1.25.1,<1.26,>=1.21.1 in c:\\users\\tim\\anaconda3\\lib\\site-packages (from requests>=2.19.0->tensorflow_datasets) (1.24.2)\n",
      "Requirement already satisfied, skipping upgrade: certifi>=2017.4.17 in c:\\users\\tim\\anaconda3\\lib\\site-packages (from requests>=2.19.0->tensorflow_datasets) (2019.9.11)\n",
      "Requirement already satisfied, skipping upgrade: setuptools in c:\\users\\tim\\anaconda3\\lib\\site-packages (from protobuf>=3.6.1->tensorflow_datasets) (41.4.0)\n"
     ]
    }
   ],
   "source": [
    "!pip install -U tensorflow_datasets"
   ]
  },
  {
   "cell_type": "code",
   "execution_count": 2,
   "metadata": {
    "colab": {},
    "colab_type": "code",
    "id": "dzLKpmZICaWN"
   },
   "outputs": [],
   "source": [
    "from __future__ import absolute_import, division, print_function, unicode_literals"
   ]
  },
  {
   "cell_type": "code",
   "execution_count": 3,
   "metadata": {
    "colab": {},
    "colab_type": "code",
    "id": "_FxXYSCXGQqQ"
   },
   "outputs": [],
   "source": [
    "import tensorflow as tf"
   ]
  },
  {
   "cell_type": "code",
   "execution_count": 4,
   "metadata": {
    "colab": {},
    "colab_type": "code",
    "id": "1UbK0Uq7GWaO"
   },
   "outputs": [],
   "source": [
    "# Import TensorFlow Datasets\n",
    "import tensorflow_datasets as tfds\n",
    "tfds.disable_progress_bar()\n",
    "\n",
    "# Helper libraries\n",
    "import math\n",
    "import numpy as np\n",
    "import matplotlib.pyplot as plt"
   ]
  },
  {
   "cell_type": "code",
   "execution_count": 5,
   "metadata": {
    "colab": {},
    "colab_type": "code",
    "id": "590z76KRGtKk"
   },
   "outputs": [],
   "source": [
    "import logging\n",
    "logger = tf.get_logger()\n",
    "logger.setLevel(logging.ERROR)"
   ]
  },
  {
   "cell_type": "code",
   "execution_count": 6,
   "metadata": {
    "colab": {},
    "colab_type": "code",
    "id": "7MqDQO0KCaWS"
   },
   "outputs": [],
   "source": [
    "dataset, metadata = tfds.load('mnist', as_supervised=True, with_info=True)\n",
    "train_dataset, test_dataset = dataset['train'], dataset['test']"
   ]
  },
  {
   "cell_type": "code",
   "execution_count": 7,
   "metadata": {
    "colab": {},
    "colab_type": "code",
    "id": "IjnLH5S2CaWx"
   },
   "outputs": [],
   "source": [
    "class_names = ['0','1','2','3','4','5','6','7','8','9']"
   ]
  },
  {
   "cell_type": "code",
   "execution_count": 8,
   "metadata": {},
   "outputs": [],
   "source": [
    "# explore the data"
   ]
  },
  {
   "cell_type": "code",
   "execution_count": 9,
   "metadata": {},
   "outputs": [
    {
     "name": "stdout",
     "output_type": "stream",
     "text": [
      "Number of training examples: 60000\n",
      "Number of test examples:     10000\n"
     ]
    }
   ],
   "source": [
    "num_train_examples = metadata.splits['train'].num_examples\n",
    "num_test_examples = metadata.splits['test'].num_examples\n",
    "print(\"Number of training examples: {}\".format(num_train_examples))\n",
    "print(\"Number of test examples:     {}\".format(num_test_examples))"
   ]
  },
  {
   "cell_type": "markdown",
   "metadata": {
    "colab_type": "text",
    "id": "ES6uQoLKCaWr"
   },
   "source": [
    "## Preprocess the data\n",
    "\n",
    "The value of each pixel in the image data is an integer in the range `[0,255]`. For the model to work properly, these values need to be normalized to the range `[0,1]`. So here we create a normalization function, and then apply it to each image in the test and train datasets."
   ]
  },
  {
   "cell_type": "code",
   "execution_count": 10,
   "metadata": {
    "colab": {},
    "colab_type": "code",
    "id": "nAsH3Zm-76pB"
   },
   "outputs": [],
   "source": [
    "def normalize(images, labels):\n",
    "  images = tf.cast(images, tf.float32)\n",
    "  images /= 255\n",
    "  return images, labels\n",
    "\n",
    "# The map function applies the normalize function to each element in the train\n",
    "# and test datasets\n",
    "train_dataset =  train_dataset.map(normalize)\n",
    "test_dataset  =  test_dataset.map(normalize)\n",
    "\n",
    "# The first time you use the dataset, the images will be loaded from disk\n",
    "# Caching will keep them in memory, making training faster\n",
    "train_dataset =  train_dataset.cache()\n",
    "test_dataset  =  test_dataset.cache()"
   ]
  },
  {
   "cell_type": "markdown",
   "metadata": {
    "colab_type": "text",
    "id": "lIQbEiJGXM-q"
   },
   "source": [
    "### Explore the processed data\n",
    "\n",
    "Let's plot an image to see what it looks like."
   ]
  },
  {
   "cell_type": "code",
   "execution_count": 11,
   "metadata": {
    "colab": {},
    "colab_type": "code",
    "id": "oSzE9l7PjHx0"
   },
   "outputs": [
    {
     "data": {
      "image/png": "[encoded data removed]",
      "text/plain": [
       "<Figure size 432x288 with 2 Axes>"
      ]
     },
     "metadata": {
      "needs_background": "light"
     },
     "output_type": "display_data"
    }
   ],
   "source": [
    "# Take a single image, and remove the color dimension by reshaping\n",
    "for image, label in test_dataset.take(1):\n",
    "  break\n",
    "image = image.numpy().reshape((28,28))\n",
    "\n",
    "# Plot the image - the number 2\n",
    "plt.figure()\n",
    "plt.imshow(image, cmap=plt.cm.binary)\n",
    "plt.colorbar()\n",
    "plt.grid(False)\n",
    "plt.show()"
   ]
  },
  {
   "cell_type": "markdown",
   "metadata": {
    "colab_type": "text",
    "id": "Ee638AlnCaWz"
   },
   "source": [
    "Display the first 25 images from the *training set* and display the class name below each image. Verify that the data is in the correct format and we're ready to build and train the network."
   ]
  },
  {
   "cell_type": "code",
   "execution_count": 12,
   "metadata": {
    "colab": {},
    "colab_type": "code",
    "id": "oZTImqg_CaW1"
   },
   "outputs": [
    {
     "data": {
      "image/png": "[encoded data removed]",
      "text/plain": [
       "<Figure size 720x720 with 25 Axes>"
      ]
     },
     "metadata": {},
     "output_type": "display_data"
    }
   ],
   "source": [
    "plt.figure(figsize=(10,10))\n",
    "i = 0\n",
    "for (image, label) in test_dataset.take(25):\n",
    "    image = image.numpy().reshape((28,28))\n",
    "    plt.subplot(5,5,i+1)\n",
    "    plt.xticks([])\n",
    "    plt.yticks([])\n",
    "    plt.grid(False)\n",
    "    plt.imshow(image, cmap=plt.cm.binary)\n",
    "    plt.xlabel(class_names[label])\n",
    "    i += 1\n",
    "plt.show()"
   ]
  },
  {
   "cell_type": "markdown",
   "metadata": {
    "colab_type": "text",
    "id": "59veuiEZCaW4"
   },
   "source": [
    "## Build the model\n",
    "\n",
    "Building the neural network requires configuring the layers of the model, then compiling the model."
   ]
  },
  {
   "cell_type": "markdown",
   "metadata": {
    "colab_type": "text",
    "id": "Gxg1XGm0eOBy"
   },
   "source": [
    "### Setup the layers\n",
    "These are the specifications recommended by the udacity tutorial for fashion_mnist, and it worked great for the standard mnist too."
   ]
  },
  {
   "cell_type": "code",
   "execution_count": 13,
   "metadata": {
    "colab": {},
    "colab_type": "code",
    "id": "9ODch-OFCaW4"
   },
   "outputs": [],
   "source": [
    "model = tf.keras.Sequential([\n",
    "    tf.keras.layers.Flatten(input_shape=(28, 28, 1)),\n",
    "    tf.keras.layers.Dense(128, activation=tf.nn.relu),\n",
    "    tf.keras.layers.Dense(10,  activation=tf.nn.softmax)\n",
    "])"
   ]
  },
  {
   "cell_type": "code",
   "execution_count": 14,
   "metadata": {
    "colab": {},
    "colab_type": "code",
    "id": "Lhan11blCaW7"
   },
   "outputs": [],
   "source": [
    "model.compile(optimizer='adam',\n",
    "              loss='sparse_categorical_crossentropy',\n",
    "              metrics=['accuracy'])"
   ]
  },
  {
   "cell_type": "markdown",
   "metadata": {
    "colab_type": "text",
    "id": "qKF6uW-BCaW-"
   },
   "source": [
    "## Train the model"
   ]
  },
  {
   "cell_type": "code",
   "execution_count": 15,
   "metadata": {
    "colab": {},
    "colab_type": "code",
    "id": "o_Dp8971McQ1"
   },
   "outputs": [],
   "source": [
    "BATCH_SIZE = 32\n",
    "train_dataset = train_dataset.repeat().shuffle(num_train_examples).batch(BATCH_SIZE)\n",
    "test_dataset = test_dataset.batch(BATCH_SIZE)"
   ]
  },
  {
   "cell_type": "code",
   "execution_count": 16,
   "metadata": {
    "colab": {},
    "colab_type": "code",
    "id": "xvwvpA64CaW_"
   },
   "outputs": [
    {
     "name": "stdout",
     "output_type": "stream",
     "text": [
      "Train for 1875 steps\n",
      "Epoch 1/5\n",
      "1875/1875 [==============================] - ETA: 2:40:55 - loss: 2.4062 - accuracy: 0.062 - ETA: 12:25 - loss: 1.9318 - accuracy: 0.3918  - ETA: 5:12 - loss: 1.4297 - accuracy: 0.605 - ETA: 3:26 - loss: 1.1877 - accuracy: 0.68 - ETA: 2:18 - loss: 1.0043 - accuracy: 0.72 - ETA: 1:47 - loss: 0.8921 - accuracy: 0.75 - ETA: 1:28 - loss: 0.8291 - accuracy: 0.77 - ETA: 1:15 - loss: 0.7649 - accuracy: 0.79 - ETA: 1:04 - loss: 0.7160 - accuracy: 0.80 - ETA: 57s - loss: 0.6718 - accuracy: 0.8170 - ETA: 50s - loss: 0.6372 - accuracy: 0.825 - ETA: 45s - loss: 0.6117 - accuracy: 0.832 - ETA: 41s - loss: 0.5897 - accuracy: 0.838 - ETA: 37s - loss: 0.5688 - accuracy: 0.843 - ETA: 34s - loss: 0.5545 - accuracy: 0.847 - ETA: 32s - loss: 0.5362 - accuracy: 0.852 - ETA: 29s - loss: 0.5220 - accuracy: 0.856 - ETA: 27s - loss: 0.5100 - accuracy: 0.858 - ETA: 25s - loss: 0.4979 - accuracy: 0.861 - ETA: 24s - loss: 0.4907 - accuracy: 0.863 - ETA: 22s - loss: 0.4795 - accuracy: 0.867 - ETA: 21s - loss: 0.4720 - accuracy: 0.868 - ETA: 20s - loss: 0.4622 - accuracy: 0.871 - ETA: 19s - loss: 0.4543 - accuracy: 0.873 - ETA: 18s - loss: 0.4478 - accuracy: 0.874 - ETA: 17s - loss: 0.4419 - accuracy: 0.876 - ETA: 16s - loss: 0.4343 - accuracy: 0.878 - ETA: 16s - loss: 0.4294 - accuracy: 0.879 - ETA: 15s - loss: 0.4224 - accuracy: 0.881 - ETA: 15s - loss: 0.4171 - accuracy: 0.883 - ETA: 14s - loss: 0.4123 - accuracy: 0.884 - ETA: 14s - loss: 0.4053 - accuracy: 0.886 - ETA: 13s - loss: 0.3997 - accuracy: 0.888 - ETA: 12s - loss: 0.3943 - accuracy: 0.889 - ETA: 12s - loss: 0.3904 - accuracy: 0.890 - ETA: 11s - loss: 0.3860 - accuracy: 0.892 - ETA: 11s - loss: 0.3818 - accuracy: 0.893 - ETA: 11s - loss: 0.3787 - accuracy: 0.894 - ETA: 10s - loss: 0.3771 - accuracy: 0.894 - ETA: 10s - loss: 0.3723 - accuracy: 0.896 - ETA: 10s - loss: 0.3676 - accuracy: 0.897 - ETA: 9s - loss: 0.3632 - accuracy: 0.898 - ETA: 9s - loss: 0.3602 - accuracy: 0.89 - ETA: 9s - loss: 0.3568 - accuracy: 0.90 - ETA: 8s - loss: 0.3556 - accuracy: 0.90 - ETA: 8s - loss: 0.3531 - accuracy: 0.90 - ETA: 8s - loss: 0.3499 - accuracy: 0.90 - ETA: 8s - loss: 0.3468 - accuracy: 0.90 - ETA: 7s - loss: 0.3444 - accuracy: 0.90 - ETA: 7s - loss: 0.3416 - accuracy: 0.90 - ETA: 7s - loss: 0.3386 - accuracy: 0.90 - ETA: 7s - loss: 0.3369 - accuracy: 0.90 - ETA: 6s - loss: 0.3337 - accuracy: 0.90 - ETA: 6s - loss: 0.3299 - accuracy: 0.90 - ETA: 6s - loss: 0.3280 - accuracy: 0.90 - ETA: 6s - loss: 0.3258 - accuracy: 0.90 - ETA: 5s - loss: 0.3230 - accuracy: 0.90 - ETA: 5s - loss: 0.3209 - accuracy: 0.91 - ETA: 5s - loss: 0.3189 - accuracy: 0.91 - ETA: 5s - loss: 0.3173 - accuracy: 0.91 - ETA: 4s - loss: 0.3144 - accuracy: 0.91 - ETA: 4s - loss: 0.3130 - accuracy: 0.91 - ETA: 4s - loss: 0.3116 - accuracy: 0.91 - ETA: 4s - loss: 0.3098 - accuracy: 0.91 - ETA: 4s - loss: 0.3074 - accuracy: 0.91 - ETA: 3s - loss: 0.3049 - accuracy: 0.91 - ETA: 3s - loss: 0.3028 - accuracy: 0.91 - ETA: 3s - loss: 0.3010 - accuracy: 0.91 - ETA: 3s - loss: 0.2995 - accuracy: 0.91 - ETA: 3s - loss: 0.2974 - accuracy: 0.91 - ETA: 3s - loss: 0.2956 - accuracy: 0.91 - ETA: 2s - loss: 0.2933 - accuracy: 0.91 - ETA: 2s - loss: 0.2914 - accuracy: 0.91 - ETA: 2s - loss: 0.2894 - accuracy: 0.91 - ETA: 2s - loss: 0.2876 - accuracy: 0.91 - ETA: 2s - loss: 0.2857 - accuracy: 0.91 - ETA: 2s - loss: 0.2836 - accuracy: 0.92 - ETA: 1s - loss: 0.2817 - accuracy: 0.92 - ETA: 1s - loss: 0.2795 - accuracy: 0.92 - ETA: 1s - loss: 0.2779 - accuracy: 0.92 - ETA: 1s - loss: 0.2766 - accuracy: 0.92 - ETA: 1s - loss: 0.2751 - accuracy: 0.92 - ETA: 1s - loss: 0.2740 - accuracy: 0.92 - ETA: 1s - loss: 0.2731 - accuracy: 0.92 - ETA: 1s - loss: 0.2718 - accuracy: 0.92 - ETA: 0s - loss: 0.2705 - accuracy: 0.92 - ETA: 0s - loss: 0.2689 - accuracy: 0.92 - ETA: 0s - loss: 0.2671 - accuracy: 0.92 - ETA: 0s - loss: 0.2662 - accuracy: 0.92 - ETA: 0s - loss: 0.2649 - accuracy: 0.92 - ETA: 0s - loss: 0.2634 - accuracy: 0.92 - ETA: 0s - loss: 0.2620 - accuracy: 0.92 - ETA: 0s - loss: 0.2608 - accuracy: 0.92 - 10s 5ms/step - loss: 0.2599 - accuracy: 0.9263\n",
      "Epoch 2/5\n",
      "1875/1875 [==============================] - ETA: 10s - loss: 0.0294 - accuracy: 1.000 - ETA: 4s - loss: 0.1354 - accuracy: 0.957 - ETA: 4s - loss: 0.1209 - accuracy: 0.96 - ETA: 4s - loss: 0.1272 - accuracy: 0.95 - ETA: 4s - loss: 0.1290 - accuracy: 0.96 - ETA: 4s - loss: 0.1278 - accuracy: 0.96 - ETA: 4s - loss: 0.1347 - accuracy: 0.96 - ETA: 4s - loss: 0.1315 - accuracy: 0.96 - ETA: 3s - loss: 0.1317 - accuracy: 0.96 - ETA: 3s - loss: 0.1337 - accuracy: 0.96 - ETA: 3s - loss: 0.1321 - accuracy: 0.96 - ETA: 3s - loss: 0.1310 - accuracy: 0.96 - ETA: 3s - loss: 0.1300 - accuracy: 0.96 - ETA: 3s - loss: 0.1288 - accuracy: 0.96 - ETA: 3s - loss: 0.1315 - accuracy: 0.96 - ETA: 3s - loss: 0.1293 - accuracy: 0.96 - ETA: 3s - loss: 0.1292 - accuracy: 0.96 - ETA: 3s - loss: 0.1305 - accuracy: 0.96 - ETA: 3s - loss: 0.1290 - accuracy: 0.96 - ETA: 3s - loss: 0.1300 - accuracy: 0.96 - ETA: 3s - loss: 0.1296 - accuracy: 0.96 - ETA: 3s - loss: 0.1292 - accuracy: 0.96 - ETA: 3s - loss: 0.1304 - accuracy: 0.96 - ETA: 3s - loss: 0.1290 - accuracy: 0.96 - ETA: 3s - loss: 0.1292 - accuracy: 0.96 - ETA: 3s - loss: 0.1287 - accuracy: 0.96 - ETA: 3s - loss: 0.1279 - accuracy: 0.96 - ETA: 3s - loss: 0.1272 - accuracy: 0.96 - ETA: 3s - loss: 0.1262 - accuracy: 0.96 - ETA: 3s - loss: 0.1265 - accuracy: 0.96 - ETA: 3s - loss: 0.1259 - accuracy: 0.96 - ETA: 3s - loss: 0.1265 - accuracy: 0.96 - ETA: 2s - loss: 0.1262 - accuracy: 0.96 - ETA: 2s - loss: 0.1250 - accuracy: 0.96 - ETA: 2s - loss: 0.1248 - accuracy: 0.96 - ETA: 2s - loss: 0.1241 - accuracy: 0.96 - ETA: 2s - loss: 0.1235 - accuracy: 0.96 - ETA: 2s - loss: 0.1230 - accuracy: 0.96 - ETA: 2s - loss: 0.1225 - accuracy: 0.96 - ETA: 2s - loss: 0.1221 - accuracy: 0.96 - ETA: 2s - loss: 0.1215 - accuracy: 0.96 - ETA: 2s - loss: 0.1218 - accuracy: 0.96 - ETA: 2s - loss: 0.1215 - accuracy: 0.96 - ETA: 2s - loss: 0.1219 - accuracy: 0.96 - ETA: 2s - loss: 0.1220 - accuracy: 0.96 - ETA: 2s - loss: 0.1222 - accuracy: 0.96 - ETA: 2s - loss: 0.1220 - accuracy: 0.96 - ETA: 2s - loss: 0.1218 - accuracy: 0.96 - ETA: 2s - loss: 0.1214 - accuracy: 0.96 - ETA: 2s - loss: 0.1215 - accuracy: 0.96 - ETA: 2s - loss: 0.1214 - accuracy: 0.96 - ETA: 1s - loss: 0.1211 - accuracy: 0.96 - ETA: 1s - loss: 0.1213 - accuracy: 0.96 - ETA: 1s - loss: 0.1208 - accuracy: 0.96 - ETA: 1s - loss: 0.1208 - accuracy: 0.96 - ETA: 1s - loss: 0.1203 - accuracy: 0.96 - ETA: 1s - loss: 0.1199 - accuracy: 0.96 - ETA: 1s - loss: 0.1196 - accuracy: 0.96 - ETA: 1s - loss: 0.1195 - accuracy: 0.96 - ETA: 1s - loss: 0.1197 - accuracy: 0.96 - ETA: 1s - loss: 0.1192 - accuracy: 0.96 - ETA: 1s - loss: 0.1187 - accuracy: 0.96 - ETA: 1s - loss: 0.1181 - accuracy: 0.96 - ETA: 1s - loss: 0.1176 - accuracy: 0.96 - ETA: 1s - loss: 0.1167 - accuracy: 0.96 - ETA: 1s - loss: 0.1168 - accuracy: 0.96 - ETA: 1s - loss: 0.1165 - accuracy: 0.96 - ETA: 1s - loss: 0.1163 - accuracy: 0.96 - ETA: 1s - loss: 0.1163 - accuracy: 0.96 - ETA: 1s - loss: 0.1161 - accuracy: 0.96 - ETA: 0s - loss: 0.1158 - accuracy: 0.96 - ETA: 0s - loss: 0.1151 - accuracy: 0.96 - ETA: 0s - loss: 0.1147 - accuracy: 0.96 - ETA: 0s - loss: 0.1143 - accuracy: 0.96 - ETA: 0s - loss: 0.1141 - accuracy: 0.96 - ETA: 0s - loss: 0.1138 - accuracy: 0.96 - ETA: 0s - loss: 0.1135 - accuracy: 0.96 - ETA: 0s - loss: 0.1128 - accuracy: 0.96 - ETA: 0s - loss: 0.1129 - accuracy: 0.96 - ETA: 0s - loss: 0.1124 - accuracy: 0.96 - ETA: 0s - loss: 0.1126 - accuracy: 0.96 - ETA: 0s - loss: 0.1124 - accuracy: 0.96 - ETA: 0s - loss: 0.1123 - accuracy: 0.96 - ETA: 0s - loss: 0.1120 - accuracy: 0.96 - ETA: 0s - loss: 0.1114 - accuracy: 0.96 - ETA: 0s - loss: 0.1108 - accuracy: 0.96 - ETA: 0s - loss: 0.1109 - accuracy: 0.96 - ETA: 0s - loss: 0.1106 - accuracy: 0.96 - ETA: 0s - loss: 0.1102 - accuracy: 0.96 - 5s 2ms/step - loss: 0.1101 - accuracy: 0.9672\n",
      "Epoch 3/5\n",
      "1875/1875 [==============================] - ETA: 14s - loss: 0.0371 - accuracy: 0.968 - ETA: 5s - loss: 0.0823 - accuracy: 0.970 - ETA: 5s - loss: 0.0756 - accuracy: 0.97 - ETA: 5s - loss: 0.0705 - accuracy: 0.97 - ETA: 4s - loss: 0.0717 - accuracy: 0.97 - ETA: 4s - loss: 0.0765 - accuracy: 0.97 - ETA: 4s - loss: 0.0814 - accuracy: 0.97 - ETA: 4s - loss: 0.0831 - accuracy: 0.97 - ETA: 4s - loss: 0.0804 - accuracy: 0.97 - ETA: 4s - loss: 0.0801 - accuracy: 0.97 - ETA: 4s - loss: 0.0828 - accuracy: 0.97 - ETA: 4s - loss: 0.0815 - accuracy: 0.97 - ETA: 3s - loss: 0.0821 - accuracy: 0.97 - ETA: 3s - loss: 0.0829 - accuracy: 0.97 - ETA: 3s - loss: 0.0835 - accuracy: 0.97 - ETA: 3s - loss: 0.0836 - accuracy: 0.97 - ETA: 3s - loss: 0.0825 - accuracy: 0.97 - ETA: 3s - loss: 0.0830 - accuracy: 0.97 - ETA: 3s - loss: 0.0831 - accuracy: 0.97 - ETA: 3s - loss: 0.0835 - accuracy: 0.97 - ETA: 3s - loss: 0.0844 - accuracy: 0.97 - ETA: 3s - loss: 0.0848 - accuracy: 0.97 - ETA: 3s - loss: 0.0848 - accuracy: 0.97 - ETA: 3s - loss: 0.0866 - accuracy: 0.97 - ETA: 3s - loss: 0.0859 - accuracy: 0.97 - ETA: 3s - loss: 0.0852 - accuracy: 0.97 - ETA: 3s - loss: 0.0842 - accuracy: 0.97 - ETA: 3s - loss: 0.0835 - accuracy: 0.97 - ETA: 3s - loss: 0.0846 - accuracy: 0.97 - ETA: 3s - loss: 0.0844 - accuracy: 0.97 - ETA: 3s - loss: 0.0842 - accuracy: 0.97 - ETA: 3s - loss: 0.0834 - accuracy: 0.97 - ETA: 3s - loss: 0.0831 - accuracy: 0.97 - ETA: 3s - loss: 0.0828 - accuracy: 0.97 - ETA: 3s - loss: 0.0827 - accuracy: 0.97 - ETA: 2s - loss: 0.0831 - accuracy: 0.97 - ETA: 2s - loss: 0.0830 - accuracy: 0.97 - ETA: 2s - loss: 0.0824 - accuracy: 0.97 - ETA: 2s - loss: 0.0821 - accuracy: 0.97 - ETA: 2s - loss: 0.0819 - accuracy: 0.97 - ETA: 2s - loss: 0.0812 - accuracy: 0.97 - ETA: 2s - loss: 0.0813 - accuracy: 0.97 - ETA: 2s - loss: 0.0813 - accuracy: 0.97 - ETA: 2s - loss: 0.0811 - accuracy: 0.97 - ETA: 2s - loss: 0.0815 - accuracy: 0.97 - ETA: 2s - loss: 0.0806 - accuracy: 0.97 - ETA: 2s - loss: 0.0811 - accuracy: 0.97 - ETA: 2s - loss: 0.0807 - accuracy: 0.97 - ETA: 2s - loss: 0.0800 - accuracy: 0.97 - ETA: 1s - loss: 0.0802 - accuracy: 0.97 - ETA: 1s - loss: 0.0804 - accuracy: 0.97 - ETA: 1s - loss: 0.0805 - accuracy: 0.97 - ETA: 1s - loss: 0.0806 - accuracy: 0.97 - ETA: 1s - loss: 0.0806 - accuracy: 0.97 - ETA: 1s - loss: 0.0800 - accuracy: 0.97 - ETA: 1s - loss: 0.0799 - accuracy: 0.97 - ETA: 1s - loss: 0.0797 - accuracy: 0.97 - ETA: 1s - loss: 0.0797 - accuracy: 0.97 - ETA: 1s - loss: 0.0801 - accuracy: 0.97 - ETA: 1s - loss: 0.0796 - accuracy: 0.97 - ETA: 1s - loss: 0.0794 - accuracy: 0.97 - ETA: 1s - loss: 0.0792 - accuracy: 0.97 - ETA: 1s - loss: 0.0790 - accuracy: 0.97 - ETA: 1s - loss: 0.0788 - accuracy: 0.97 - ETA: 1s - loss: 0.0787 - accuracy: 0.97 - ETA: 0s - loss: 0.0786 - accuracy: 0.97 - ETA: 0s - loss: 0.0783 - accuracy: 0.97 - ETA: 0s - loss: 0.0780 - accuracy: 0.97 - ETA: 0s - loss: 0.0778 - accuracy: 0.97 - ETA: 0s - loss: 0.0773 - accuracy: 0.97 - ETA: 0s - loss: 0.0774 - accuracy: 0.97 - ETA: 0s - loss: 0.0769 - accuracy: 0.97 - ETA: 0s - loss: 0.0768 - accuracy: 0.97 - ETA: 0s - loss: 0.0770 - accuracy: 0.97 - ETA: 0s - loss: 0.0766 - accuracy: 0.97 - ETA: 0s - loss: 0.0765 - accuracy: 0.97 - ETA: 0s - loss: 0.0765 - accuracy: 0.97 - ETA: 0s - loss: 0.0763 - accuracy: 0.97 - ETA: 0s - loss: 0.0762 - accuracy: 0.97 - ETA: 0s - loss: 0.0761 - accuracy: 0.97 - ETA: 0s - loss: 0.0760 - accuracy: 0.97 - ETA: 0s - loss: 0.0756 - accuracy: 0.97 - ETA: 0s - loss: 0.0755 - accuracy: 0.97 - 4s 2ms/step - loss: 0.0754 - accuracy: 0.9772\n",
      "Epoch 4/5\n",
      "1875/1875 [==============================] - ETA: 9s - loss: 0.0807 - accuracy: 0.96 - ETA: 3s - loss: 0.0833 - accuracy: 0.97 - ETA: 3s - loss: 0.0648 - accuracy: 0.98 - ETA: 3s - loss: 0.0647 - accuracy: 0.98 - ETA: 3s - loss: 0.0698 - accuracy: 0.97 - ETA: 3s - loss: 0.0672 - accuracy: 0.98 - ETA: 3s - loss: 0.0666 - accuracy: 0.98 - ETA: 3s - loss: 0.0660 - accuracy: 0.98 - ETA: 3s - loss: 0.0655 - accuracy: 0.98 - ETA: 3s - loss: 0.0664 - accuracy: 0.98 - ETA: 3s - loss: 0.0653 - accuracy: 0.98 - ETA: 3s - loss: 0.0658 - accuracy: 0.98 - ETA: 3s - loss: 0.0649 - accuracy: 0.98 - ETA: 3s - loss: 0.0648 - accuracy: 0.98 - ETA: 3s - loss: 0.0641 - accuracy: 0.98 - ETA: 3s - loss: 0.0631 - accuracy: 0.98 - ETA: 3s - loss: 0.0635 - accuracy: 0.98 - ETA: 2s - loss: 0.0619 - accuracy: 0.98 - ETA: 2s - loss: 0.0631 - accuracy: 0.98 - ETA: 2s - loss: 0.0634 - accuracy: 0.98 - ETA: 2s - loss: 0.0630 - accuracy: 0.98 - ETA: 2s - loss: 0.0633 - accuracy: 0.98 - ETA: 2s - loss: 0.0632 - accuracy: 0.98 - ETA: 2s - loss: 0.0646 - accuracy: 0.98 - ETA: 2s - loss: 0.0655 - accuracy: 0.97 - ETA: 2s - loss: 0.0648 - accuracy: 0.98 - ETA: 2s - loss: 0.0642 - accuracy: 0.98 - ETA: 2s - loss: 0.0643 - accuracy: 0.98 - ETA: 2s - loss: 0.0641 - accuracy: 0.98 - ETA: 2s - loss: 0.0642 - accuracy: 0.98 - ETA: 2s - loss: 0.0653 - accuracy: 0.97 - ETA: 2s - loss: 0.0644 - accuracy: 0.98 - ETA: 2s - loss: 0.0639 - accuracy: 0.98 - ETA: 2s - loss: 0.0643 - accuracy: 0.98 - ETA: 2s - loss: 0.0638 - accuracy: 0.98 - ETA: 2s - loss: 0.0635 - accuracy: 0.98 - ETA: 2s - loss: 0.0634 - accuracy: 0.98 - ETA: 1s - loss: 0.0633 - accuracy: 0.98 - ETA: 1s - loss: 0.0630 - accuracy: 0.98 - ETA: 1s - loss: 0.0626 - accuracy: 0.98 - ETA: 1s - loss: 0.0622 - accuracy: 0.98 - ETA: 1s - loss: 0.0617 - accuracy: 0.98 - ETA: 1s - loss: 0.0614 - accuracy: 0.98 - ETA: 1s - loss: 0.0619 - accuracy: 0.98 - ETA: 1s - loss: 0.0616 - accuracy: 0.98 - ETA: 1s - loss: 0.0612 - accuracy: 0.98 - ETA: 1s - loss: 0.0611 - accuracy: 0.98 - ETA: 1s - loss: 0.0611 - accuracy: 0.98 - ETA: 1s - loss: 0.0612 - accuracy: 0.98 - ETA: 1s - loss: 0.0616 - accuracy: 0.98 - ETA: 1s - loss: 0.0615 - accuracy: 0.98 - ETA: 1s - loss: 0.0608 - accuracy: 0.98 - ETA: 1s - loss: 0.0606 - accuracy: 0.98 - ETA: 1s - loss: 0.0608 - accuracy: 0.98 - ETA: 1s - loss: 0.0610 - accuracy: 0.98 - ETA: 1s - loss: 0.0609 - accuracy: 0.98 - ETA: 1s - loss: 0.0605 - accuracy: 0.98 - ETA: 0s - loss: 0.0604 - accuracy: 0.98 - ETA: 0s - loss: 0.0601 - accuracy: 0.98 - ETA: 0s - loss: 0.0598 - accuracy: 0.98 - ETA: 0s - loss: 0.0596 - accuracy: 0.98 - ETA: 0s - loss: 0.0596 - accuracy: 0.98 - ETA: 0s - loss: 0.0594 - accuracy: 0.98 - ETA: 0s - loss: 0.0590 - accuracy: 0.98 - ETA: 0s - loss: 0.0587 - accuracy: 0.98 - ETA: 0s - loss: 0.0582 - accuracy: 0.98 - ETA: 0s - loss: 0.0579 - accuracy: 0.98 - ETA: 0s - loss: 0.0579 - accuracy: 0.98 - ETA: 0s - loss: 0.0577 - accuracy: 0.98 - ETA: 0s - loss: 0.0577 - accuracy: 0.98 - ETA: 0s - loss: 0.0576 - accuracy: 0.98 - ETA: 0s - loss: 0.0576 - accuracy: 0.98 - ETA: 0s - loss: 0.0579 - accuracy: 0.98 - ETA: 0s - loss: 0.0579 - accuracy: 0.98 - ETA: 0s - loss: 0.0578 - accuracy: 0.98 - ETA: 0s - loss: 0.0579 - accuracy: 0.98 - ETA: 0s - loss: 0.0577 - accuracy: 0.98 - ETA: 0s - loss: 0.0577 - accuracy: 0.98 - ETA: 0s - loss: 0.0577 - accuracy: 0.98 - 4s 2ms/step - loss: 0.0577 - accuracy: 0.9820\n",
      "Epoch 5/5\n",
      "1875/1875 [==============================] - ETA: 14s - loss: 0.0115 - accuracy: 1.000 - ETA: 4s - loss: 0.0417 - accuracy: 0.984 - ETA: 4s - loss: 0.0463 - accuracy: 0.98 - ETA: 4s - loss: 0.0500 - accuracy: 0.98 - ETA: 4s - loss: 0.0488 - accuracy: 0.98 - ETA: 4s - loss: 0.0536 - accuracy: 0.98 - ETA: 4s - loss: 0.0566 - accuracy: 0.98 - ETA: 4s - loss: 0.0577 - accuracy: 0.98 - ETA: 4s - loss: 0.0572 - accuracy: 0.98 - ETA: 4s - loss: 0.0577 - accuracy: 0.98 - ETA: 4s - loss: 0.0558 - accuracy: 0.98 - ETA: 3s - loss: 0.0538 - accuracy: 0.98 - ETA: 3s - loss: 0.0546 - accuracy: 0.98 - ETA: 3s - loss: 0.0551 - accuracy: 0.98 - ETA: 3s - loss: 0.0542 - accuracy: 0.98 - ETA: 3s - loss: 0.0545 - accuracy: 0.98 - ETA: 3s - loss: 0.0537 - accuracy: 0.98 - ETA: 3s - loss: 0.0527 - accuracy: 0.98 - ETA: 3s - loss: 0.0523 - accuracy: 0.98 - ETA: 3s - loss: 0.0533 - accuracy: 0.98 - ETA: 3s - loss: 0.0519 - accuracy: 0.98 - ETA: 3s - loss: 0.0513 - accuracy: 0.98 - ETA: 3s - loss: 0.0512 - accuracy: 0.98 - ETA: 3s - loss: 0.0513 - accuracy: 0.98 - ETA: 3s - loss: 0.0511 - accuracy: 0.98 - ETA: 3s - loss: 0.0501 - accuracy: 0.98 - ETA: 3s - loss: 0.0502 - accuracy: 0.98 - ETA: 3s - loss: 0.0495 - accuracy: 0.98 - ETA: 3s - loss: 0.0487 - accuracy: 0.98 - ETA: 3s - loss: 0.0481 - accuracy: 0.98 - ETA: 2s - loss: 0.0476 - accuracy: 0.98 - ETA: 2s - loss: 0.0476 - accuracy: 0.98 - ETA: 2s - loss: 0.0480 - accuracy: 0.98 - ETA: 2s - loss: 0.0474 - accuracy: 0.98 - ETA: 2s - loss: 0.0470 - accuracy: 0.98 - ETA: 2s - loss: 0.0467 - accuracy: 0.98 - ETA: 2s - loss: 0.0459 - accuracy: 0.98 - ETA: 2s - loss: 0.0459 - accuracy: 0.98 - ETA: 2s - loss: 0.0457 - accuracy: 0.98 - ETA: 2s - loss: 0.0458 - accuracy: 0.98 - ETA: 2s - loss: 0.0458 - accuracy: 0.98 - ETA: 2s - loss: 0.0456 - accuracy: 0.98 - ETA: 2s - loss: 0.0456 - accuracy: 0.98 - ETA: 2s - loss: 0.0452 - accuracy: 0.98 - ETA: 2s - loss: 0.0454 - accuracy: 0.98 - ETA: 2s - loss: 0.0453 - accuracy: 0.98 - ETA: 2s - loss: 0.0455 - accuracy: 0.98 - ETA: 2s - loss: 0.0456 - accuracy: 0.98 - ETA: 2s - loss: 0.0460 - accuracy: 0.98 - ETA: 2s - loss: 0.0459 - accuracy: 0.98 - ETA: 2s - loss: 0.0455 - accuracy: 0.98 - ETA: 2s - loss: 0.0454 - accuracy: 0.98 - ETA: 2s - loss: 0.0453 - accuracy: 0.98 - ETA: 2s - loss: 0.0453 - accuracy: 0.98 - ETA: 1s - loss: 0.0451 - accuracy: 0.98 - ETA: 1s - loss: 0.0455 - accuracy: 0.98 - ETA: 1s - loss: 0.0456 - accuracy: 0.98 - ETA: 1s - loss: 0.0459 - accuracy: 0.98 - ETA: 1s - loss: 0.0456 - accuracy: 0.98 - ETA: 1s - loss: 0.0459 - accuracy: 0.98 - ETA: 1s - loss: 0.0461 - accuracy: 0.98 - ETA: 1s - loss: 0.0462 - accuracy: 0.98 - ETA: 1s - loss: 0.0462 - accuracy: 0.98 - ETA: 1s - loss: 0.0465 - accuracy: 0.98 - ETA: 1s - loss: 0.0466 - accuracy: 0.98 - ETA: 1s - loss: 0.0467 - accuracy: 0.98 - ETA: 1s - loss: 0.0467 - accuracy: 0.98 - ETA: 1s - loss: 0.0466 - accuracy: 0.98 - ETA: 1s - loss: 0.0464 - accuracy: 0.98 - ETA: 1s - loss: 0.0464 - accuracy: 0.98 - ETA: 1s - loss: 0.0460 - accuracy: 0.98 - ETA: 1s - loss: 0.0460 - accuracy: 0.98 - ETA: 0s - loss: 0.0462 - accuracy: 0.98 - ETA: 0s - loss: 0.0462 - accuracy: 0.98 - ETA: 0s - loss: 0.0460 - accuracy: 0.98 - ETA: 0s - loss: 0.0459 - accuracy: 0.98 - ETA: 0s - loss: 0.0458 - accuracy: 0.98 - ETA: 0s - loss: 0.0457 - accuracy: 0.98 - ETA: 0s - loss: 0.0456 - accuracy: 0.98 - ETA: 0s - loss: 0.0454 - accuracy: 0.98 - ETA: 0s - loss: 0.0453 - accuracy: 0.98 - ETA: 0s - loss: 0.0452 - accuracy: 0.98 - ETA: 0s - loss: 0.0452 - accuracy: 0.98 - ETA: 0s - loss: 0.0452 - accuracy: 0.98 - ETA: 0s - loss: 0.0451 - accuracy: 0.98 - ETA: 0s - loss: 0.0452 - accuracy: 0.98 - ETA: 0s - loss: 0.0453 - accuracy: 0.98 - ETA: 0s - loss: 0.0451 - accuracy: 0.98 - ETA: 0s - loss: 0.0453 - accuracy: 0.98 - ETA: 0s - loss: 0.0450 - accuracy: 0.98 - ETA: 0s - loss: 0.0451 - accuracy: 0.98 - ETA: 0s - loss: 0.0449 - accuracy: 0.98 - 5s 3ms/step - loss: 0.0450 - accuracy: 0.9864\n"
     ]
    },
    {
     "data": {
      "text/plain": [
       "<tensorflow.python.keras.callbacks.History at 0x21dd33cce48>"
      ]
     },
     "execution_count": 16,
     "metadata": {},
     "output_type": "execute_result"
    }
   ],
   "source": [
    "model.fit(train_dataset, epochs=5, steps_per_epoch=math.ceil(num_train_examples/BATCH_SIZE))"
   ]
  },
  {
   "cell_type": "markdown",
   "metadata": {
    "colab_type": "text",
    "id": "oEw4bZgGCaXB"
   },
   "source": [
    "## Evaluate accuracy\n",
    "\n",
    "Next, compare how the model performs on the test dataset. Use all examples we have in the test dataset to assess accuracy."
   ]
  },
  {
   "cell_type": "code",
   "execution_count": 17,
   "metadata": {
    "colab": {},
    "colab_type": "code",
    "id": "VflXLEeECaXC"
   },
   "outputs": [
    {
     "name": "stdout",
     "output_type": "stream",
     "text": [
      "313/313 [==============================] - ETA: 56s - loss: 0.1315 - accuracy: 0.968 - ETA: 5s - loss: 0.0713 - accuracy: 0.973 - ETA: 3s - loss: 0.0785 - accuracy: 0.97 - ETA: 2s - loss: 0.0775 - accuracy: 0.97 - ETA: 1s - loss: 0.0739 - accuracy: 0.97 - ETA: 1s - loss: 0.0726 - accuracy: 0.97 - ETA: 1s - loss: 0.0739 - accuracy: 0.97 - ETA: 1s - loss: 0.0828 - accuracy: 0.97 - ETA: 1s - loss: 0.0800 - accuracy: 0.97 - ETA: 1s - loss: 0.0786 - accuracy: 0.97 - ETA: 0s - loss: 0.0778 - accuracy: 0.97 - ETA: 0s - loss: 0.0792 - accuracy: 0.97 - ETA: 0s - loss: 0.0785 - accuracy: 0.97 - ETA: 0s - loss: 0.0758 - accuracy: 0.97 - ETA: 0s - loss: 0.0757 - accuracy: 0.97 - ETA: 0s - loss: 0.0762 - accuracy: 0.97 - ETA: 0s - loss: 0.0756 - accuracy: 0.97 - ETA: 0s - loss: 0.0748 - accuracy: 0.97 - ETA: 0s - loss: 0.0737 - accuracy: 0.97 - ETA: 0s - loss: 0.0726 - accuracy: 0.97 - ETA: 0s - loss: 0.0737 - accuracy: 0.97 - ETA: 0s - loss: 0.0724 - accuracy: 0.97 - ETA: 0s - loss: 0.0727 - accuracy: 0.97 - ETA: 0s - loss: 0.0736 - accuracy: 0.97 - ETA: 0s - loss: 0.0738 - accuracy: 0.97 - ETA: 0s - loss: 0.0732 - accuracy: 0.97 - 2s 5ms/step - loss: 0.0726 - accuracy: 0.9767\n",
      "Accuracy on test dataset: 0.9767\n"
     ]
    }
   ],
   "source": [
    "test_loss, test_accuracy = model.evaluate(test_dataset, steps=math.ceil(num_test_examples/32))\n",
    "print('Accuracy on test dataset:', test_accuracy)"
   ]
  },
  {
   "cell_type": "markdown",
   "metadata": {
    "colab_type": "text",
    "id": "xsoS7CPDCaXH"
   },
   "source": [
    "## Make predictions and explore\n",
    "\n",
    "With the model trained, we can use it to make predictions about some images."
   ]
  },
  {
   "cell_type": "code",
   "execution_count": 18,
   "metadata": {
    "colab": {},
    "colab_type": "code",
    "id": "Ccoz4conNCpl"
   },
   "outputs": [],
   "source": [
    "for test_images, test_labels in test_dataset.take(1):\n",
    "  test_images = test_images.numpy()\n",
    "  test_labels = test_labels.numpy()\n",
    "  predictions = model.predict(test_images)"
   ]
  },
  {
   "cell_type": "code",
   "execution_count": 19,
   "metadata": {
    "colab": {},
    "colab_type": "code",
    "id": "Gl91RPhdCaXI"
   },
   "outputs": [
    {
     "data": {
      "text/plain": [
       "(32, 10)"
      ]
     },
     "execution_count": 19,
     "metadata": {},
     "output_type": "execute_result"
    }
   ],
   "source": [
    "predictions.shape\n"
   ]
  },
  {
   "cell_type": "markdown",
   "metadata": {
    "colab_type": "text",
    "id": "x9Kk1voUCaXJ"
   },
   "source": [
    "Here, the model has predicted the label for each image in the testing set. Let's take a look at the first prediction:"
   ]
  },
  {
   "cell_type": "code",
   "execution_count": 20,
   "metadata": {
    "colab": {},
    "colab_type": "code",
    "id": "3DmJEUinCaXK"
   },
   "outputs": [
    {
     "data": {
      "text/plain": [
       "array([1.8563928e-10, 2.9982157e-09, 9.9999952e-01, 5.1556964e-07,\n",
       "       1.2082441e-08, 1.6351937e-12, 2.7139322e-09, 2.8512319e-09,\n",
       "       3.9141717e-09, 6.3721187e-15], dtype=float32)"
      ]
     },
     "execution_count": 20,
     "metadata": {},
     "output_type": "execute_result"
    }
   ],
   "source": [
    "predictions[0]"
   ]
  },
  {
   "cell_type": "markdown",
   "metadata": {
    "colab_type": "text",
    "id": "-hw1hgeSCaXN"
   },
   "source": [
    "A prediction is an array of 10 numbers. These describe the \"confidence\" of the model that the image corresponds to each of the 10 different numbers. We can see which label has the highest confidence value:"
   ]
  },
  {
   "cell_type": "code",
   "execution_count": 21,
   "metadata": {
    "colab": {},
    "colab_type": "code",
    "id": "qsqenuPnCaXO"
   },
   "outputs": [
    {
     "data": {
      "text/plain": [
       "2"
      ]
     },
     "execution_count": 21,
     "metadata": {},
     "output_type": "execute_result"
    }
   ],
   "source": [
    "np.argmax(predictions[0])"
   ]
  },
  {
   "cell_type": "code",
   "execution_count": 22,
   "metadata": {
    "colab": {},
    "colab_type": "code",
    "id": "Sd7Pgsu6CaXP"
   },
   "outputs": [
    {
     "data": {
      "text/plain": [
       "2"
      ]
     },
     "execution_count": 22,
     "metadata": {},
     "output_type": "execute_result"
    }
   ],
   "source": [
    "test_labels[0]"
   ]
  },
  {
   "cell_type": "markdown",
   "metadata": {
    "colab_type": "text",
    "id": "ygh2yYC972ne"
   },
   "source": [
    "We can graph this to look at the full set of 10 class predictions"
   ]
  },
  {
   "cell_type": "code",
   "execution_count": 23,
   "metadata": {
    "colab": {},
    "colab_type": "code",
    "id": "DvYmmrpIy6Y1"
   },
   "outputs": [],
   "source": [
    "def plot_image(i, predictions_array, true_labels, images):\n",
    "  predictions_array, true_label, img = predictions_array[i], true_labels[i], images[i]\n",
    "  plt.grid(False)\n",
    "  plt.xticks([])\n",
    "  plt.yticks([])\n",
    "  \n",
    "  plt.imshow(img[...,0], cmap=plt.cm.binary)\n",
    "\n",
    "  predicted_label = np.argmax(predictions_array)\n",
    "  if predicted_label == true_label:\n",
    "    color = 'blue'\n",
    "  else:\n",
    "    color = 'red'\n",
    "  \n",
    "  plt.xlabel(\"{} {:2.0f}% ({})\".format(class_names[predicted_label],\n",
    "                                100*np.max(predictions_array),\n",
    "                                class_names[true_label]),\n",
    "                                color=color)\n",
    "\n",
    "def plot_value_array(i, predictions_array, true_label):\n",
    "  predictions_array, true_label = predictions_array[i], true_label[i]\n",
    "  plt.grid(False)\n",
    "  plt.xticks([])\n",
    "  plt.yticks([])\n",
    "  thisplot = plt.bar(range(10), predictions_array, color=\"#777777\")\n",
    "  plt.ylim([0, 1]) \n",
    "  predicted_label = np.argmax(predictions_array)\n",
    "  \n",
    "  thisplot[predicted_label].set_color('red')\n",
    "  thisplot[true_label].set_color('blue')"
   ]
  },
  {
   "cell_type": "markdown",
   "metadata": {
    "colab_type": "text",
    "id": "d4Ov9OFDMmOD"
   },
   "source": [
    "Let's look at the 0th image, predictions, and prediction array. "
   ]
  },
  {
   "cell_type": "code",
   "execution_count": 24,
   "metadata": {
    "colab": {},
    "colab_type": "code",
    "id": "HV5jw-5HwSmO"
   },
   "outputs": [
    {
     "data": {
      "image/png": "[encoded data removed]",
      "text/plain": [
       "<Figure size 432x216 with 2 Axes>"
      ]
     },
     "metadata": {},
     "output_type": "display_data"
    }
   ],
   "source": [
    "i = 0\n",
    "plt.figure(figsize=(6,3))\n",
    "plt.subplot(1,2,1)\n",
    "plot_image(i, predictions, test_labels, test_images)\n",
    "plt.subplot(1,2,2)\n",
    "plot_value_array(i, predictions, test_labels)"
   ]
  },
  {
   "cell_type": "code",
   "execution_count": 25,
   "metadata": {
    "colab": {},
    "colab_type": "code",
    "id": "Ko-uzOufSCSe"
   },
   "outputs": [
    {
     "data": {
      "image/png": "[encoded data removed]",
      "text/plain": [
       "<Figure size 432x216 with 2 Axes>"
      ]
     },
     "metadata": {},
     "output_type": "display_data"
    }
   ],
   "source": [
    "i = 12\n",
    "plt.figure(figsize=(6,3))\n",
    "plt.subplot(1,2,1)\n",
    "plot_image(i, predictions, test_labels, test_images)\n",
    "plt.subplot(1,2,2)\n",
    "plot_value_array(i, predictions, test_labels)"
   ]
  },
  {
   "cell_type": "markdown",
   "metadata": {
    "colab_type": "text",
    "id": "kgdvGD52CaXR"
   },
   "source": [
    "Let's plot several images with their predictions. Correct prediction labels are blue and incorrect prediction labels are red. The number gives the percent (out of 100) for the predicted label. Note that it can be wrong even when very confident. "
   ]
  },
  {
   "cell_type": "code",
   "execution_count": 26,
   "metadata": {
    "colab": {},
    "colab_type": "code",
    "id": "hQlnbqaw2Qu_"
   },
   "outputs": [
    {
     "data": {
      "image/png": "[encoded data removed]",
      "text/plain": [
       "<Figure size 864x720 with 30 Axes>"
      ]
     },
     "metadata": {},
     "output_type": "display_data"
    }
   ],
   "source": [
    "# Plot the first X test images, their predicted label, and the true label\n",
    "# Color correct predictions in blue, incorrect predictions in red\n",
    "num_rows = 5\n",
    "num_cols = 3\n",
    "num_images = num_rows*num_cols\n",
    "plt.figure(figsize=(2*2*num_cols, 2*num_rows))\n",
    "for i in range(num_images):\n",
    "  plt.subplot(num_rows, 2*num_cols, 2*i+1)\n",
    "  plot_image(i, predictions, test_labels, test_images)\n",
    "  plt.subplot(num_rows, 2*num_cols, 2*i+2)\n",
    "  plot_value_array(i, predictions, test_labels)\n",
    "\n"
   ]
  },
  {
   "cell_type": "markdown",
   "metadata": {
    "colab_type": "text",
    "id": "R32zteKHCaXT"
   },
   "source": [
    "# Prediction about a single image"
   ]
  },
  {
   "cell_type": "code",
   "execution_count": 27,
   "metadata": {
    "colab": {},
    "colab_type": "code",
    "id": "yRJ7JU7JCaXT"
   },
   "outputs": [
    {
     "name": "stdout",
     "output_type": "stream",
     "text": [
      "(28, 28, 1)\n"
     ]
    }
   ],
   "source": [
    "# Grab an image from the test dataset\n",
    "img = test_images[0]\n",
    "\n",
    "print(img.shape)"
   ]
  },
  {
   "cell_type": "markdown",
   "metadata": {
    "colab_type": "text",
    "id": "vz3bVp21CaXV"
   },
   "source": [
    "`tf.keras` models are optimized to make predictions on a *batch*, or collection, of examples at once. So even though we're using a single image, we need to add it to a list:"
   ]
  },
  {
   "cell_type": "code",
   "execution_count": 28,
   "metadata": {
    "colab": {},
    "colab_type": "code",
    "id": "lDFh5yF_CaXW"
   },
   "outputs": [
    {
     "name": "stdout",
     "output_type": "stream",
     "text": [
      "(1, 28, 28, 1)\n"
     ]
    }
   ],
   "source": [
    "# Add the image to a batch where it's the only member.\n",
    "img = np.array([img])\n",
    "\n",
    "print(img.shape)"
   ]
  },
  {
   "cell_type": "markdown",
   "metadata": {
    "colab_type": "text",
    "id": "EQ5wLTkcCaXY"
   },
   "source": [
    "Now predict the image:"
   ]
  },
  {
   "cell_type": "code",
   "execution_count": 29,
   "metadata": {
    "colab": {},
    "colab_type": "code",
    "id": "o_rzNSdrCaXY"
   },
   "outputs": [
    {
     "name": "stdout",
     "output_type": "stream",
     "text": [
      "[[1.8563928e-10 2.9982099e-09 9.9999952e-01 5.1556964e-07 1.2082418e-08\n",
      "  1.6351937e-12 2.7139375e-09 2.8512319e-09 3.9141717e-09 6.3721187e-15]]\n"
     ]
    }
   ],
   "source": [
    "predictions_single = model.predict(img)\n",
    "\n",
    "print(predictions_single)"
   ]
  },
  {
   "cell_type": "code",
   "execution_count": 30,
   "metadata": {
    "colab": {},
    "colab_type": "code",
    "id": "6Ai-cpLjO-3A"
   },
   "outputs": [
    {
     "data": {
      "image/png": "[encoded data removed]",
      "text/plain": [
       "<Figure size 432x288 with 1 Axes>"
      ]
     },
     "metadata": {
      "needs_background": "light"
     },
     "output_type": "display_data"
    }
   ],
   "source": [
    "plot_value_array(0, predictions_single, test_labels)\n",
    "_ = plt.xticks(range(10), class_names, rotation=45)"
   ]
  },
  {
   "cell_type": "markdown",
   "metadata": {
    "colab_type": "text",
    "id": "cU1Y2OAMCaXb"
   },
   "source": [
    "`model.predict` returns a list of lists, one for each image in the batch of data. Grab the predictions for our (only) image in the batch:"
   ]
  },
  {
   "cell_type": "code",
   "execution_count": 31,
   "metadata": {
    "colab": {},
    "colab_type": "code",
    "id": "2tRmdq_8CaXb"
   },
   "outputs": [
    {
     "data": {
      "text/plain": [
       "2"
      ]
     },
     "execution_count": 31,
     "metadata": {},
     "output_type": "execute_result"
    }
   ],
   "source": [
    "np.argmax(predictions_single[0])"
   ]
  },
  {
   "cell_type": "code",
   "execution_count": null,
   "metadata": {
    "colab": {},
    "colab_type": "code",
    "id": "WIIYx5IIfwF0"
   },
   "outputs": [],
   "source": []
  }
 ],
 "metadata": {
  "accelerator": "GPU",
  "colab": {
   "collapsed_sections": [],
   "name": "Classifying MNIST",
   "private_outputs": true,
   "provenance": []
  },
  "kernelspec": {
   "display_name": "Python 3",
   "language": "python",
   "name": "python3"
  },
  "language_info": {
   "codemirror_mode": {
    "name": "ipython",
    "version": 3
   },
   "file_extension": ".py",
   "mimetype": "text/x-python",
   "name": "python",
   "nbconvert_exporter": "python",
   "pygments_lexer": "ipython3",
   "version": "3.7.4"
  }
 },
 "nbformat": 4,
 "nbformat_minor": 1
}
